{
 "cells": [
  {
   "cell_type": "markdown",
   "metadata": {},
   "source": [
    "# CS-GY 9223-E: Deep Learning Homework 2\n",
    "Member 1: John Martinez, jzm218\n",
    "<br>\n",
    "Member 2: Vinay Bhapkar, vvb231"
   ]
  },
  {
   "cell_type": "code",
   "execution_count": 1,
   "metadata": {
    "collapsed": true
   },
   "outputs": [],
   "source": [
    "import tensorflow as tf\n",
    "import time\n",
    "from datetime import timedelta\n",
    "import math\n",
    "import numpy as np\n",
    "import os\n",
    "import glob\n",
    "import sys\n",
    "import scipy.misc\n",
    "from scipy.ndimage import imread\n",
    "import timeit"
   ]
  },
  {
   "cell_type": "markdown",
   "metadata": {},
   "source": [
    "# Loading Data "
   ]
  },
  {
   "cell_type": "code",
   "execution_count": 2,
   "metadata": {},
   "outputs": [
    {
     "name": "stdout",
     "output_type": "stream",
     "text": [
      "['.ipynb_checkpoints', 'CNN_4_final2.ipynb']\n",
      "{'deer': 4, 'truck': 9, 'automobile': 1, 'bird': 2, 'frog': 6, 'horse': 7, 'cat': 3, 'dog': 5, 'ship': 8, 'airplane': 0}\n",
      "Loaded 10000/45000\n",
      "Loaded 20000/45000\n",
      "Loaded 30000/45000\n",
      "Loaded 40000/45000\n",
      "Data loading done.\n"
     ]
    }
   ],
   "source": [
    "def get_img_array(path):\n",
    "    \"\"\"\n",
    "    Given path of image, returns it's numpy array\n",
    "    \"\"\"\n",
    "    return scipy.misc.imread(path)\n",
    "\n",
    "def get_files(folder):\n",
    "    \"\"\"\n",
    "    Given path to folder, returns list of files in it\n",
    "    \"\"\"\n",
    "    def getid(s):\n",
    "        return int(''.join(c for c in s[3:] if c.isdigit()))\n",
    "        \n",
    "    filenames = [file for file in glob.glob(folder+'*/*')]\n",
    "    filenames.sort(key=getid)\n",
    "    return filenames\n",
    "\n",
    "def get_label(filepath, label2id):\n",
    "    \"\"\"\n",
    "    Files are assumed to be labeled as: /path/to/file/999_frog.png\n",
    "    Returns label for a filepath\n",
    "    \"\"\"\n",
    "    tokens = filepath.split('/')\n",
    "    label = tokens[-1].split('_')[1][:-4]\n",
    "    if label in label2id:\n",
    "        return label2id[label]\n",
    "    else:\n",
    "        sys.exit(\"Invalid label: \" + label)\n",
    "        \n",
    "\n",
    "def get_labels(folder, label2id):\n",
    "    \"\"\"\n",
    "    Returns vector of labels extracted from filenames of all files in folder\n",
    "    :param folder: path to data folder\n",
    "    :param label2id: mapping of text labels to numeric ids. (Eg: automobile -> 0)\n",
    "    \"\"\"\n",
    "    files = get_files(folder)\n",
    "    y = []\n",
    "    for f in files:\n",
    "        y.append(get_label(f,label2id))\n",
    "    return np.array(y)\n",
    "\n",
    "def one_hot(y, num_classes=10):\n",
    "    \"\"\"\n",
    "    Converts each label index in y to vector with one_hot encoding\n",
    "    One-hot encoding converts categorical labels to binary values\n",
    "    \"\"\"\n",
    "    y_one_hot = np.zeros((num_classes, y.shape[0]))\n",
    "    y_one_hot[y, range(y.shape[0])] = 1\n",
    "    return y_one_hot\n",
    "\n",
    "def get_label_mapping(label_file):\n",
    "    \"\"\"\n",
    "    Returns mappings of label to index and index to label\n",
    "    The input file has list of labels, each on a separate line.\n",
    "    \"\"\"\n",
    "    print(os.listdir())\n",
    "    with open(label_file, 'r') as f:\n",
    "        id2label = f.readlines()\n",
    "        id2label = [l.strip() for l in id2label]\n",
    "    label2id = {}\n",
    "    count = 0\n",
    "    for label in id2label:\n",
    "        label2id[label] = count\n",
    "        count += 1\n",
    "    return id2label, label2id\n",
    "\n",
    "def get_images(folder):\n",
    "    \"\"\"\n",
    "    returns numpy array of all samples in folder\n",
    "    each column is a sample resized to 30x30 and flattened\n",
    "    \"\"\"\n",
    "    files = get_files(folder)\n",
    "    images = []\n",
    "    count = 0\n",
    "    \n",
    "    for f in files:\n",
    "        count += 1 \n",
    "        if count % 10000 == 0:\n",
    "            print(\"Loaded {}/{}\".format(count,len(files)))\n",
    "        img_arr = get_img_array(f)\n",
    "        img_arr = img_arr.flatten() / 255.0\n",
    "        images.append(img_arr)\n",
    "    X = np.column_stack(images)\n",
    "\n",
    "    return X\n",
    "\n",
    "def get_train_data(data_root_path):\n",
    "    \"\"\"\n",
    "    Return X and y\n",
    "    \"\"\"\n",
    "    train_data_path = data_root_path + 'train'\n",
    "    id2label, label2id = get_label_mapping(data_root_path+'labels.txt')\n",
    "    print(label2id)\n",
    "    X = get_images(train_data_path)\n",
    "    y = get_labels(train_data_path, label2id)\n",
    "    return X, y\n",
    "\n",
    "def save_predictions(filename, y):\n",
    "    \"\"\"\n",
    "    Dumps y into .npy file\n",
    "    \"\"\"\n",
    "    np.save(filename, y)\n",
    "    \n",
    "def get_batch(X, y, batch_size):\n",
    "    \"\"\"\n",
    "    Return minibatch of samples and labels\n",
    "  \n",
    "    :param X, y: samples and corresponding labels\n",
    "    :parma batch_size: minibatch size\n",
    "    :returns: (tuple) X_batch, y_batch\n",
    "    \"\"\"\n",
    "    # Random indices for the samples\n",
    "\n",
    "    indices = np.random.randint(y.shape[0]-1, size= batch_size)\n",
    "\n",
    "    X_batch = X[indices, :]\n",
    "    y_batch = y[indices, :]\n",
    "  \n",
    "    return X_batch, y_batch\n",
    "\n",
    "# Load the data\n",
    "data_root_path = '/hw2_dataset/HW2_data/'\n",
    "X_train, y_train2 = get_train_data(data_root_path) # this may take a few minutes\n",
    "y_train = one_hot(y_train2).T\n",
    "X_train = X_train.T\n",
    "\n",
    "# Loading test data \n",
    "X_test = get_images(data_root_path + 'test').T\n",
    "\n",
    "print(\"Data loading done.\")"
   ]
  },
  {
   "cell_type": "code",
   "execution_count": 3,
   "metadata": {},
   "outputs": [
    {
     "data": {
      "text/plain": [
       "(5000, 3072)"
      ]
     },
     "execution_count": 3,
     "metadata": {},
     "output_type": "execute_result"
    }
   ],
   "source": [
    "X_test.shape"
   ]
  },
  {
   "cell_type": "markdown",
   "metadata": {},
   "source": [
    "# Train/val split"
   ]
  },
  {
   "cell_type": "code",
   "execution_count": 4,
   "metadata": {
    "collapsed": true
   },
   "outputs": [],
   "source": [
    "val_size = 3000 # Choose validation batch size \n",
    "val_start = len(X_train) - val_size\n",
    "\n",
    "# Split into validation, training data \n",
    "X_train1= X_train[0:val_start,:]\n",
    "y_train1= y_train[0:val_start]\n",
    "X_val = X_train[val_start:,:] \n",
    "y_val = y_train[val_start:]"
   ]
  },
  {
   "cell_type": "code",
   "execution_count": 5,
   "metadata": {
    "collapsed": true
   },
   "outputs": [],
   "source": [
    "X_train1 = X_train1.reshape(len(X_train1),32,32,3)"
   ]
  },
  {
   "cell_type": "code",
   "execution_count": 6,
   "metadata": {},
   "outputs": [
    {
     "name": "stdout",
     "output_type": "stream",
     "text": [
      "(42000, 32, 32, 3)\n",
      "(3000, 3072)\n",
      "(42000, 10)\n"
     ]
    }
   ],
   "source": [
    "print(X_train1.shape)\n",
    "print(X_val.shape)\n",
    "print(y_train1.shape)"
   ]
  },
  {
   "cell_type": "code",
   "execution_count": 7,
   "metadata": {
    "collapsed": true
   },
   "outputs": [],
   "source": [
    "x_valid_batch = X_val \n",
    "y_valid_batch = y_val #= get_batch(X_train, y_train, batch_size)\n",
    "x_valid_batch = x_valid_batch.reshape((val_size, 32, 32, 3))"
   ]
  },
  {
   "cell_type": "markdown",
   "metadata": {},
   "source": [
    "# Augmentation "
   ]
  },
  {
   "cell_type": "code",
   "execution_count": 8,
   "metadata": {
    "collapsed": true
   },
   "outputs": [],
   "source": [
    "IMAGE_SIZE = 32\n",
    "def central_scale_images(X_imgs, scales):\n",
    "    # Various settings needed for Tensorflow operation\n",
    "    boxes = np.zeros((len(scales), 4), dtype = np.float32)\n",
    "    for index, scale in enumerate(scales):\n",
    "        x1 = y1 = 0.5 - 0.5 * scale # To scale centrally\n",
    "        x2 = y2 = 0.5 + 0.5 * scale\n",
    "        boxes[index] = np.array([y1, x1, y2, x2], dtype = np.float32)\n",
    "    box_ind = np.zeros((len(scales)), dtype = np.int32)\n",
    "    crop_size = np.array([IMAGE_SIZE, IMAGE_SIZE], dtype = np.int32)\n",
    "    \n",
    "    X_scale_data = []\n",
    "    tf.reset_default_graph()\n",
    "    X = tf.placeholder(tf.float32, shape = (1, IMAGE_SIZE, IMAGE_SIZE, 3))\n",
    "    # Define Tensorflow operation for all scales but only one base image at a time\n",
    "    tf_img = tf.image.crop_and_resize(X, boxes, box_ind, crop_size)\n",
    "    with tf.Session() as sess:\n",
    "        sess.run(tf.global_variables_initializer())\n",
    "        \n",
    "        for img_data in X_imgs:\n",
    "            batch_img = np.expand_dims(img_data, axis = 0)\n",
    "            scaled_imgs = sess.run(tf_img, feed_dict = {X: batch_img})\n",
    "            X_scale_data.extend(scaled_imgs)\n",
    "    \n",
    "    X_scale_data = np.array(X_scale_data, dtype = np.float32)\n",
    "    return X_scale_data\n",
    "\t\n",
    "# Produce each image at scaling of 90%, 75% and 60% of original image.\n",
    "#scaled_imgs = central_scale_images(X_imgs, [0.90, 0.75, 0.60])"
   ]
  },
  {
   "cell_type": "code",
   "execution_count": 9,
   "metadata": {
    "collapsed": true
   },
   "outputs": [],
   "source": [
    "from math import ceil, floor\n",
    "\n",
    "def get_translate_parameters(index):\n",
    "    if index == 0: # Translate left 20 percent\n",
    "        offset = np.array([0.0, 0.2], dtype = np.float32)\n",
    "        size = np.array([IMAGE_SIZE, ceil(0.8 * IMAGE_SIZE)], dtype = np.int32)\n",
    "        w_start = 0\n",
    "        w_end = int(ceil(0.8 * IMAGE_SIZE))\n",
    "        h_start = 0\n",
    "        h_end = IMAGE_SIZE\n",
    "    elif index == 1: # Translate right 20 percent\n",
    "        offset = np.array([0.0, -0.2], dtype = np.float32)\n",
    "        size = np.array([IMAGE_SIZE, ceil(0.8 * IMAGE_SIZE)], dtype = np.int32)\n",
    "        w_start = int(floor((1 - 0.8) * IMAGE_SIZE))\n",
    "        w_end = IMAGE_SIZE\n",
    "        h_start = 0\n",
    "        h_end = IMAGE_SIZE\n",
    "    elif index == 2: # Translate top 20 percent\n",
    "        offset = np.array([0.2, 0.0], dtype = np.float32)\n",
    "        size = np.array([ceil(0.8 * IMAGE_SIZE), IMAGE_SIZE], dtype = np.int32)\n",
    "        w_start = 0\n",
    "        w_end = IMAGE_SIZE\n",
    "        h_start = 0\n",
    "        h_end = int(ceil(0.8 * IMAGE_SIZE)) \n",
    "    else: # Translate bottom 20 percent\n",
    "        offset = np.array([-0.2, 0.0], dtype = np.float32)\n",
    "        size = np.array([ceil(0.8 * IMAGE_SIZE), IMAGE_SIZE], dtype = np.int32)\n",
    "        w_start = 0\n",
    "        w_end = IMAGE_SIZE\n",
    "        h_start = int(floor((1 - 0.8) * IMAGE_SIZE))\n",
    "        h_end = IMAGE_SIZE \n",
    "        \n",
    "    return offset, size, w_start, w_end, h_start, h_end\n",
    "\n",
    "def translate_images(X_imgs):\n",
    "    offsets = np.zeros((len(X_imgs), 2), dtype = np.float32)\n",
    "    n_translations = 4\n",
    "    X_translated_arr = []\n",
    "    \n",
    "    tf.reset_default_graph()\n",
    "    with tf.Session() as sess:\n",
    "        sess.run(tf.global_variables_initializer())\n",
    "        for i in range(n_translations):\n",
    "            X_translated = np.zeros((len(X_imgs), IMAGE_SIZE, IMAGE_SIZE, 3), \n",
    "\t\t\t\t    dtype = np.float32)\n",
    "            X_translated.fill(1.0) # Filling background color\n",
    "            base_offset, size, w_start, w_end, h_start, h_end = get_translate_parameters(i)\n",
    "            offsets[:, :] = base_offset \n",
    "            glimpses = tf.image.extract_glimpse(X_imgs, size, offsets)\n",
    "            \n",
    "            glimpses = sess.run(glimpses)\n",
    "            X_translated[:, h_start: h_start + size[0], \\\n",
    "\t\t\t w_start: w_start + size[1], :] = glimpses\n",
    "            X_translated_arr.extend(X_translated)\n",
    "    X_translated_arr = np.array(X_translated_arr, dtype = np.float32)\n",
    "    return X_translated_arr\n",
    "\t\n",
    "#translated_imgs = translate_images(X_imgs)"
   ]
  },
  {
   "cell_type": "code",
   "execution_count": 10,
   "metadata": {
    "collapsed": true
   },
   "outputs": [],
   "source": [
    "def rotate_images_90(X_imgs):\n",
    "    X_rotate = []\n",
    "    tf.reset_default_graph()\n",
    "    X = tf.placeholder(tf.float32, shape = (IMAGE_SIZE, IMAGE_SIZE, 3))\n",
    "    k = tf.placeholder(tf.int32)\n",
    "    tf_img = tf.image.rot90(X, k = k)\n",
    "    with tf.Session() as sess:\n",
    "        sess.run(tf.global_variables_initializer())\n",
    "        for img in X_imgs:\n",
    "            for i in range(3):  # Rotation at 90, 180 and 270 degrees\n",
    "                rotated_img = sess.run(tf_img, feed_dict = {X: img, k: i + 1})\n",
    "                X_rotate.append(rotated_img)\n",
    "        \n",
    "    X_rotate = np.array(X_rotate, dtype = np.float32)\n",
    "    return X_rotate\n",
    "\t\n",
    "#rotated_imgs1 = rotate_images_90(X_imgs)"
   ]
  },
  {
   "cell_type": "code",
   "execution_count": 11,
   "metadata": {
    "collapsed": true
   },
   "outputs": [],
   "source": [
    "from math import pi\n",
    "\n",
    "def rotate_images(X_imgs, start_angle, end_angle, n_images):\n",
    "    X_rotate = []\n",
    "    iterate_at = (end_angle - start_angle) / (n_images - 1)\n",
    "    \n",
    "    tf.reset_default_graph()\n",
    "    X = tf.placeholder(tf.float32, shape = (None, IMAGE_SIZE, IMAGE_SIZE, 3))\n",
    "    radian = tf.placeholder(tf.float32, shape = (len(X_imgs)))\n",
    "    tf_img = tf.contrib.image.rotate(X, radian)\n",
    "    with tf.Session() as sess:\n",
    "        sess.run(tf.global_variables_initializer())\n",
    "    \n",
    "        for index in range(n_images):\n",
    "            degrees_angle = start_angle + index * iterate_at\n",
    "            radian_value = degrees_angle * pi / 180  # Convert to radian\n",
    "            radian_arr = [radian_value] * len(X_imgs)\n",
    "            rotated_imgs = sess.run(tf_img, feed_dict = {X: X_imgs, radian: radian_arr})\n",
    "            X_rotate.extend(rotated_imgs)\n",
    "\n",
    "    X_rotate = np.array(X_rotate, dtype = np.float32)\n",
    "    return X_rotate\n",
    "\t\n",
    "# Start rotation at -90 degrees, end at 90 degrees and produce totally 14 images\n",
    "#rotated_imgs = rotate_images(X_imgs, -90, 100, 14)"
   ]
  },
  {
   "cell_type": "code",
   "execution_count": 12,
   "metadata": {
    "collapsed": true
   },
   "outputs": [],
   "source": [
    "def flip_images(X_imgs):\n",
    "    X_flip = []\n",
    "    tf.reset_default_graph()\n",
    "    X = tf.placeholder(tf.float32, shape = (IMAGE_SIZE, IMAGE_SIZE, 3))\n",
    "    tf_img1 = tf.image.flip_left_right(X)\n",
    "    tf_img2 = tf.image.flip_up_down(X)\n",
    "    tf_img3 = tf.image.transpose_image(X)\n",
    "    with tf.Session() as sess:\n",
    "        sess.run(tf.global_variables_initializer())\n",
    "        for img in X_imgs:\n",
    "            flipped_imgs = sess.run([tf_img1, tf_img2, tf_img3], feed_dict = {X: img})\n",
    "            X_flip.extend(flipped_imgs)\n",
    "    X_flip = np.array(X_flip, dtype = np.float32)\n",
    "    return X_flip\n",
    "\t\n",
    "#flipped_images = flip_images(X_imgs)"
   ]
  },
  {
   "cell_type": "code",
   "execution_count": 13,
   "metadata": {
    "collapsed": true
   },
   "outputs": [],
   "source": [
    "def add_salt_pepper_noise(X_imgs):\n",
    "    # Need to produce a copy as to not modify the original image\n",
    "    X_imgs_copy = X_imgs.copy()\n",
    "    row, col, _ = X_imgs_copy[0].shape\n",
    "    salt_vs_pepper = 0.2\n",
    "    amount = 0.004\n",
    "    num_salt = np.ceil(amount * X_imgs_copy[0].size * salt_vs_pepper)\n",
    "    num_pepper = np.ceil(amount * X_imgs_copy[0].size * (1.0 - salt_vs_pepper))\n",
    "    \n",
    "    for X_img in X_imgs_copy:\n",
    "        # Add Salt noise\n",
    "        coords = [np.random.randint(0, i - 1, int(num_salt)) for i in X_img.shape]\n",
    "        X_img[coords[0], coords[1], :] = 1\n",
    "\n",
    "        # Add Pepper noise\n",
    "        coords = [np.random.randint(0, i - 1, int(num_pepper)) for i in X_img.shape]\n",
    "        X_img[coords[0], coords[1], :] = 0\n",
    "    return X_imgs_copy\n",
    "  \n",
    "#salt_pepper_noise_imgs = add_salt_pepper_noise(X_imgs)"
   ]
  },
  {
   "cell_type": "markdown",
   "metadata": {},
   "source": [
    "# Training"
   ]
  },
  {
   "cell_type": "code",
   "execution_count": 14,
   "metadata": {
    "collapsed": true
   },
   "outputs": [],
   "source": [
    "batch_size = 50\n",
    "num_classes = 10\n",
    "img_size = 32\n",
    "num_channels = 3"
   ]
  },
  {
   "cell_type": "code",
   "execution_count": 15,
   "metadata": {
    "collapsed": true
   },
   "outputs": [],
   "source": [
    "tf.reset_default_graph()\n",
    "x = tf.placeholder(tf.float32, shape=[None, img_size,img_size,num_channels], name='x')\n",
    "## labels\n",
    "y_true = tf.placeholder(tf.float32, shape=[None, num_classes], name='y_true')\n",
    "y_true_cls = tf.argmax(y_true, axis=1)\n",
    "is_training = tf.placeholder(tf.bool)\n",
    "\n",
    "# USING: \n",
    "# conv2d SAME\n",
    "# ReLu\n",
    "# conv2d SAME \n",
    "# ReLu\n",
    "# Conv2d VALID\n",
    "# ReLu\n",
    "# maxpool\n",
    "# Batch Norm\n",
    "# Affine\n",
    "# Batch Norm\n",
    "# ReLu\n",
    "# Affine\n",
    "# dropout\n",
    "# Batch Norm\n",
    "# Softmax\n",
    "\n",
    "\n",
    "# Convolutional layers \n",
    "with tf.name_scope(\"conv\"):\n",
    "    Wconv1 = tf.get_variable(\"Wconv1\", shape=[5, 5, 3, 32])\n",
    "    bconv1 = tf.get_variable(\"bconv1\", shape=[32])\n",
    "    Wconv_1 = tf.get_variable(\"Wconv_1\", shape=[5, 5, 3, 32])\n",
    "    bconv_1 = tf.get_variable(\"bconv_1\", shape=[32])\n",
    "    \n",
    "    \n",
    "    Wconv2 = tf.get_variable(\"Wconv2\", shape=[5, 5, 32, 64])\n",
    "    bconv2 = tf.get_variable(\"bconv2\", shape=[64])\n",
    "    Wconv3 = tf.get_variable(\"Wconv3\", shape=[5, 5, 64, 64])\n",
    "    bconv3 = tf.get_variable(\"bconv3\", shape=[64])\n",
    "   # Wconv4 = tf.get_variable(\"Wconv4\", shape=[5, 5, 64, 64])\n",
    "   # bconv4 = tf.get_variable(\"bconv4\", shape=[64])\n",
    "    \n",
    "    # Summarizing convolution layers\n",
    "    tf.summary.histogram(\"Wconv1\", Wconv1)\n",
    "    tf.summary.histogram(\"bconv1\", bconv1)\n",
    "    tf.summary.histogram(\"Wconv2\", Wconv2)\n",
    "    tf.summary.histogram(\"bconv2\", bconv2)\n",
    "    tf.summary.histogram(\"Wconv3\", Wconv3)\n",
    "    tf.summary.histogram(\"bconv3\", bconv3)\n",
    "    #tf.summary.histogram(\"Wconv4\", Wconv4)\n",
    "    #tf.summary.histogram(\"bconv4\", bconv4)\n",
    "\n",
    "# Fully connected layers \n",
    "with tf.name_scope(\"fc\"):\n",
    "    W1 = tf.get_variable(\"W1\", shape=[3136, 1024])\n",
    "    b1 = tf.get_variable(\"b1\", shape=[1024])\n",
    "    W2 = tf.get_variable(\"W2\", shape=[1024, 10])\n",
    "    b2 = tf.get_variable(\"b2\", shape=[10]) \n",
    "    \n",
    "    # Summarizing last fully connected layer\n",
    "    tf.summary.histogram(\"W2\", Wconv2)\n",
    "    tf.summary.histogram(\"b2\", bconv2)\n",
    "\n",
    "\n",
    "# Forward propagation\n",
    "conv1 = tf.nn.conv2d(x, Wconv1, strides=[1, 1, 1, 1], padding='SAME') + bconv1\n",
    "relu1 = tf.nn.relu(conv1)\n",
    "\n",
    "conv_1 = tf.nn.conv2d(x, Wconv_1, strides=[1, 1, 1, 1], padding='SAME') + bconv_1\n",
    "relu_1 = tf.nn.relu(conv_1)\n",
    "\n",
    "maxpool1 = tf.layers.max_pooling2d(relu_1, pool_size=(2,2), strides = 2)\n",
    "\n",
    "conv2 = tf.nn.conv2d(relu1, Wconv2, strides=[1, 1, 1, 1], padding='SAME') + bconv2\n",
    "relu2 = tf.nn.relu(conv2)\n",
    "maxpool2 = tf.layers.max_pooling2d(relu2, pool_size=(2,2), strides = 2)\n",
    "\n",
    "conv3 = tf.nn.conv2d(relu2, Wconv3, strides = [1,2,2,1], padding = 'VALID') + bconv3\n",
    "relu3 = tf.nn.relu(conv3)\n",
    "\n",
    "#conv4 = tf.nn.conv2d(relu3, Wconv4, strides = [1,2,2,1], padding = 'VALID') + bconv4\n",
    "#relu4 = tf.nn.relu(conv4)\n",
    "\n",
    "maxpool3 = tf.layers.max_pooling2d(relu3, pool_size=(2,2), strides=2)\n",
    "maxpool_flat = tf.reshape(maxpool3,[-1,3136])\n",
    "\n",
    "# Spatial Batch Normalization Layer (trainable parameters, with scale and centering)\n",
    "bn1 = tf.layers.batch_normalization(inputs=maxpool_flat, center=True, scale=True, training=is_training)\n",
    "affine1 = tf.matmul(bn1, W1) + b1\n",
    "affine1_flat = tf.reshape(affine1,[-1,1024])\n",
    "bn2 = tf.layers.batch_normalization(inputs=affine1, center=True, scale=True, training=is_training)\n",
    "relu2 = tf.nn.relu(bn2)\n",
    "drop1 = tf.layers.dropout(inputs=relu2, training=is_training)\n",
    "affine2 = tf.matmul(drop1, W2) + b2\n",
    "affine2_flat = tf.reshape(affine2,[-1,3136])\n",
    "\n",
    "predict = tf.layers.batch_normalization(inputs=affine2, center=True, scale=True, training=is_training)\n",
    "y_pred = tf.nn.softmax(predict)"
   ]
  },
  {
   "cell_type": "code",
   "execution_count": 16,
   "metadata": {
    "collapsed": true
   },
   "outputs": [],
   "source": [
    "y_pred_cls = tf.argmax(y_pred, axis=1)\n",
    "\n",
    "with tf.name_scope(\"cost\"): # cross-entropy scope\n",
    "    cross_entropy = tf.nn.softmax_cross_entropy_with_logits(logits=predict,labels=y_true)\n",
    "    cost = tf.reduce_mean(cross_entropy)\n",
    "    tf.summary.scalar(\"cost\", cost)\n",
    "    \n",
    "with tf.name_scope(\"accuracy\"):\n",
    "    correct_prediction = tf.equal(y_pred_cls, y_true_cls)\n",
    "    accuracy = tf.reduce_mean(tf.cast(correct_prediction, tf.float32))\n",
    "    tf.summary.scalar(\"accuracy\", accuracy)\n",
    "\n",
    "summ = tf.summary.merge_all() # Merging the summary \n",
    "\n",
    "global_step = tf.Variable(0, trainable=False)\n",
    "starter_learning_rate = 1e-3\n",
    "end_learning_rate = 5e-3\n",
    "decay_steps = 10000\n",
    "\n",
    "learning_rate = tf.train.polynomial_decay(starter_learning_rate, global_step,\n",
    "                                          decay_steps, end_learning_rate,\n",
    "                                          power=0.5)\n",
    "\n",
    "exp_learning_rate = tf.train.exponential_decay(starter_learning_rate, global_step,\n",
    "                                               100000, 0.96, staircase=True)                 \n",
    "\n",
    "extra_update_ops = tf.get_collection(tf.GraphKeys.UPDATE_OPS)\n",
    "with tf.control_dependencies(extra_update_ops):\n",
    "    optimizer = tf.train.AdamOptimizer(learning_rate=1e-3).minimize(cost, global_step=global_step)                    "
   ]
  },
  {
   "cell_type": "code",
   "execution_count": 17,
   "metadata": {
    "collapsed": true
   },
   "outputs": [],
   "source": [
    "def show_progress(epoch, feed_dict_train, feed_dict_validate, val_loss):\n",
    "    acc = session.run(accuracy, feed_dict=feed_dict_train)\n",
    "    val_acc = session.run(accuracy, feed_dict=feed_dict_validate)\n",
    "    msg = \"Training Epoch {0} --- Training Accuracy: {1:>6.1%}, Validation Accuracy: {2:>6.1%},  Training Loss: {3:.3f}\"\n",
    "    print(msg.format(epoch + 1, acc, val_acc, val_loss))"
   ]
  },
  {
   "cell_type": "code",
   "execution_count": 18,
   "metadata": {
    "collapsed": true
   },
   "outputs": [],
   "source": [
    "def augment_batch(X_batch, y_batch):\n",
    "    X_scaled = central_scale_images(X_batch, [0.90, 0.75, 0.60])\n",
    "    \n",
    "    X_translated = translate_images(X_batch)\n",
    "    X_rotated_90 = rotate_images_90(X_batch)  #\n",
    "   # X_rotated = rotate_images(X_batch,-90, 100, 14)  #\n",
    "    X_flipped = flip_images(X_batch)\n",
    "    X_salt_pepper_noise = add_salt_pepper_noise(X_batch)\n",
    "    \n",
    "    X_aug_batch = np.vstack((X_batch,X_scaled,X_translated,X_rotated_90, X_flipped, X_salt_pepper_noise)) # X_rotated,\n",
    "    \n",
    "    y_1 = np.argmax(y_batch,axis=1)\n",
    "    y_1_repeat = np.repeat(y_1,3)\n",
    "    y_1_repeat_one_hot = one_hot( y_1_repeat).T\n",
    "   \n",
    "    y_scaled = y_1_repeat_one_hot\n",
    "    y_translated = np.vstack([y_batch]*4)\n",
    "    y_rotated_90 =  y_1_repeat_one_hot\n",
    "   # y_rotated = np.vstack([y_batch]*14)          #y_aug_onehot_T   #rotate_images_90\n",
    "    y_flipped = y_1_repeat_one_hot\n",
    "    y_salt_pepper_noise = y_batch                                                   \n",
    "    \n",
    "    \n",
    "    y_aug_batch = np.vstack((y_batch,y_scaled,y_translated,y_rotated_90,y_flipped, y_salt_pepper_noise))  #y_rotated, \n",
    "\n",
    "    return X_aug_batch, y_aug_batch"
   ]
  },
  {
   "cell_type": "code",
   "execution_count": 2,
   "metadata": {
    "collapsed": true
   },
   "outputs": [],
   "source": [
    "def normalize(x):\n",
    "    return (x - np.mean(x,axis=0)) / np.std(x,axis=0)"
   ]
  },
  {
   "cell_type": "code",
   "execution_count": 20,
   "metadata": {
    "collapsed": true
   },
   "outputs": [],
   "source": [
    "x_valid_batch = normalize(x_valid_batch) # Normalize val data \n",
    "\n",
    "def train(num_epochs = 10):\n",
    "    step = 0\n",
    "    for epoch in range(num_epochs):\n",
    "        # keep track of losses and accuracy\n",
    "        correct = 0\n",
    "        losses = []\n",
    "        for i in range(int(math.ceil(X_train1.shape[0]/batch_size))):\n",
    "            \n",
    "            X_batch, y_batch = get_batch(X_train1, y_train1, batch_size)\n",
    "            \n",
    "            x_batch, y_true_batch = augment_batch(X_batch,y_batch)\n",
    "            \n",
    "            x_batch = normalize(x_batch)\n",
    "            \n",
    "            # Training batches \n",
    "            feed_dict_tr = {x: x_batch,\n",
    "                           y_true: y_true_batch, is_training: True}\n",
    "            \n",
    "            # Validation batches \n",
    "            feed_dict_val = {x: x_valid_batch,\n",
    "                              y_true: y_valid_batch, is_training: False}\n",
    "            \n",
    "            # Adding the summary \n",
    "            if (i % 5) == 0:\n",
    "                s = session.run(summ, feed_dict = feed_dict_tr)\n",
    "                writer.add_summary(s, step)\n",
    "            \n",
    "            # Optimizing \n",
    "            session.run(optimizer, feed_dict=feed_dict_tr)\n",
    "            \n",
    "            if (i % 200) == 0:\n",
    "                # Showing progress every 200 iters\n",
    "                val_loss = session.run(cost, feed_dict=feed_dict_tr)\n",
    "                show_progress(epoch, feed_dict_tr, feed_dict_val, val_loss)  \n",
    "            \n",
    "            step = 1"
   ]
  },
  {
   "cell_type": "code",
   "execution_count": 21,
   "metadata": {
    "collapsed": true
   },
   "outputs": [],
   "source": [
    "session = tf.Session()\n",
    "session.run(tf.global_variables_initializer())\n",
    "\n",
    "path = \"/tmp/cifarcnn/4\" # Change if want to keep the old board \n",
    "writer = tf.summary.FileWriter(path)\n",
    "writer.add_graph(session.graph)"
   ]
  },
  {
   "cell_type": "code",
   "execution_count": 2,
   "metadata": {},
   "outputs": [
    {
     "name": "stdout",
     "output_type": "stream",
     "text": [
      "\n",
      "Training Epoch 1 --- Training Accuracy:  50.4%, Validation Accuracy:  14.1%,  Training Loss: 1.570\n",
      "Training Epoch 1 --- Training Accuracy:  41.3%, Validation Accuracy:  40.7%,  Training Loss: 1.678\n",
      "Training Epoch 1 --- Training Accuracy:  48.8%, Validation Accuracy:  50.9%,  Training Loss: 1.391\n",
      "Training Epoch 1 --- Training Accuracy:  46.5%, Validation Accuracy:  57.0%,  Training Loss: 1.521\n",
      "Training Epoch 1 --- Training Accuracy:  57.1%, Validation Accuracy:  60.8%,  Training Loss: 1.232\n",
      "Training Epoch 2 --- Training Accuracy:  55.2%, Validation Accuracy:  61.8%,  Training Loss: 1.299\n",
      "Training Epoch 2 --- Training Accuracy:  62.5%, Validation Accuracy:  64.4%,  Training Loss: 1.116\n",
      "Training Epoch 2 --- Training Accuracy:  63.3%, Validation Accuracy:  64.6%,  Training Loss: 1.176\n",
      "Training Epoch 2 --- Training Accuracy:  71.2%, Validation Accuracy:  61.5%,  Training Loss: 0.934\n",
      "Training Epoch 2 --- Training Accuracy:  69.2%, Validation Accuracy:  67.0%,  Training Loss: 0.906\n",
      "Training Epoch 3 --- Training Accuracy:  72.8%, Validation Accuracy:  67.8%,  Training Loss: 0.898\n",
      "Training Epoch 3 --- Training Accuracy:  63.7%, Validation Accuracy:  71.1%,  Training Loss: 1.042\n",
      "Training Epoch 3 --- Training Accuracy:  67.1%, Validation Accuracy:  70.9%,  Training Loss: 1.022\n",
      "Training Epoch 3 --- Training Accuracy:  74.4%, Validation Accuracy:  69.9%,  Training Loss: 0.812\n",
      "Training Epoch 3 --- Training Accuracy:  67.2%, Validation Accuracy:  70.2%,  Training Loss: 0.936\n",
      "Training Epoch 4 --- Training Accuracy:  69.1%, Validation Accuracy:  70.9%,  Training Loss: 0.952\n",
      "Training Epoch 4 --- Training Accuracy:  68.7%, Validation Accuracy:  73.1%,  Training Loss: 0.922\n",
      "Training Epoch 4 --- Training Accuracy:  69.6%, Validation Accuracy:  71.8%,  Training Loss: 0.905\n",
      "Training Epoch 4 --- Training Accuracy:  74.7%, Validation Accuracy:  73.5%,  Training Loss: 0.801\n",
      "Training Epoch 4 --- Training Accuracy:  69.5%, Validation Accuracy:  74.7%,  Training Loss: 0.879\n",
      "Training Epoch 5 --- Training Accuracy:  63.2%, Validation Accuracy:  69.1%,  Training Loss: 1.051\n",
      "Training Epoch 5 --- Training Accuracy:  75.9%, Validation Accuracy:  73.6%,  Training Loss: 0.779\n",
      "Training Epoch 5 --- Training Accuracy:  68.1%, Validation Accuracy:  74.3%,  Training Loss: 0.936\n",
      "Training Epoch 5 --- Training Accuracy:  74.4%, Validation Accuracy:  76.0%,  Training Loss: 0.804\n",
      "Training Epoch 5 --- Training Accuracy:  74.3%, Validation Accuracy:  73.6%,  Training Loss: 0.723\n",
      "Training Epoch 6 --- Training Accuracy:  71.2%, Validation Accuracy:  74.7%,  Training Loss: 0.799\n",
      "Training Epoch 6 --- Training Accuracy:  74.7%, Validation Accuracy:  76.3%,  Training Loss: 0.714\n",
      "Training Epoch 6 --- Training Accuracy:  66.4%, Validation Accuracy:  76.2%,  Training Loss: 0.940\n",
      "Training Epoch 6 --- Training Accuracy:  74.7%, Validation Accuracy:  76.4%,  Training Loss: 0.794\n",
      "Training Epoch 6 --- Training Accuracy:  78.3%, Validation Accuracy:  77.8%,  Training Loss: 0.702\n",
      "Training Epoch 7 --- Training Accuracy:  82.8%, Validation Accuracy:  74.2%,  Training Loss: 0.576\n",
      "Training Epoch 7 --- Training Accuracy:  71.1%, Validation Accuracy:  76.8%,  Training Loss: 0.837\n",
      "Training Epoch 7 --- Training Accuracy:  71.5%, Validation Accuracy:  75.5%,  Training Loss: 0.843\n",
      "Training Epoch 7 --- Training Accuracy:  80.8%, Validation Accuracy:  77.1%,  Training Loss: 0.615\n",
      "Training Epoch 7 --- Training Accuracy:  72.3%, Validation Accuracy:  79.4%,  Training Loss: 0.739\n",
      "Training Epoch 8 --- Training Accuracy:  82.0%, Validation Accuracy:  78.7%,  Training Loss: 0.671\n",
      "Training Epoch 8 --- Training Accuracy:  67.7%, Validation Accuracy:  79.3%,  Training Loss: 1.028\n",
      "Training Epoch 8 --- Training Accuracy:  79.6%, Validation Accuracy:  78.7%,  Training Loss: 0.643\n",
      "Training Epoch 8 --- Training Accuracy:  79.6%, Validation Accuracy:  77.5%,  Training Loss: 0.608\n",
      "Training Epoch 8 --- Training Accuracy:  80.0%, Validation Accuracy:  77.9%,  Training Loss: 0.590\n",
      "Training Epoch 9 --- Training Accuracy:  79.3%, Validation Accuracy:  77.3%,  Training Loss: 0.651\n",
      "Training Epoch 9 --- Training Accuracy:  77.3%, Validation Accuracy:  78.1%,  Training Loss: 0.704\n",
      "Training Epoch 9 --- Training Accuracy:  72.8%, Validation Accuracy:  78.6%,  Training Loss: 0.753\n",
      "Training Epoch 9 --- Training Accuracy:  67.6%, Validation Accuracy:  77.9%,  Training Loss: 0.856\n",
      "Training Epoch 9 --- Training Accuracy:  77.9%, Validation Accuracy:  78.2%,  Training Loss: 0.623\n",
      "Training Epoch 10 --- Training Accuracy:  79.9%, Validation Accuracy:  79.3%,  Training Loss: 0.555\n",
      "Training Epoch 10 --- Training Accuracy:  84.0%, Validation Accuracy:  78.7%,  Training Loss: 0.531\n",
      "Training Epoch 10 --- Training Accuracy:  80.1%, Validation Accuracy:  79.4%,  Training Loss: 0.578\n",
      "Training Epoch 10 --- Training Accuracy:  84.9%, Validation Accuracy:  79.4%,  Training Loss: 0.449\n",
      "Training Epoch 10 --- Training Accuracy:  82.5%, Validation Accuracy:  79.2%,  Training Loss: 0.528\n",
      "Training Epoch 11 --- Training Accuracy:  82.3%, Validation Accuracy:  78.9%,  Training Loss: 0.598\n",
      "Training Epoch 11 --- Training Accuracy:  85.9%, Validation Accuracy:  78.9%,  Training Loss: 0.457\n",
      "Training Epoch 11 --- Training Accuracy:  79.3%, Validation Accuracy:  78.0%,  Training Loss: 0.629\n",
      "Training Epoch 11 --- Training Accuracy:  80.4%, Validation Accuracy:  79.2%,  Training Loss: 0.553\n",
      "Training Epoch 11 --- Training Accuracy:  85.5%, Validation Accuracy:  79.4%,  Training Loss: 0.424\n",
      "Training Epoch 12 --- Training Accuracy:  79.1%, Validation Accuracy:  78.4%,  Training Loss: 0.618\n",
      "Training Epoch 12 --- Training Accuracy:  75.7%, Validation Accuracy:  79.4%,  Training Loss: 0.697\n",
      "Training Epoch 12 --- Training Accuracy:  82.1%, Validation Accuracy:  79.6%,  Training Loss: 0.576\n",
      "Training Epoch 12 --- Training Accuracy:  84.1%, Validation Accuracy:  78.2%,  Training Loss: 0.470\n",
      "Training Epoch 12 --- Training Accuracy:  84.1%, Validation Accuracy:  79.1%,  Training Loss: 0.516\n",
      "Training Epoch 13 --- Training Accuracy:  81.1%, Validation Accuracy:  79.2%,  Training Loss: 0.558\n",
      "Training Epoch 13 --- Training Accuracy:  89.6%, Validation Accuracy:  78.3%,  Training Loss: 0.382\n",
      "Training Epoch 13 --- Training Accuracy:  80.4%, Validation Accuracy:  78.7%,  Training Loss: 0.621\n",
      "Training Epoch 13 --- Training Accuracy:  77.6%, Validation Accuracy:  79.5%,  Training Loss: 0.626\n",
      "Training Epoch 13 --- Training Accuracy:  82.8%, Validation Accuracy:  79.7%,  Training Loss: 0.536\n",
      "Training Epoch 14 --- Training Accuracy:  84.8%, Validation Accuracy:  79.0%,  Training Loss: 0.474\n",
      "Training Epoch 14 --- Training Accuracy:  87.9%, Validation Accuracy:  79.2%,  Training Loss: 0.431\n",
      "Training Epoch 14 --- Training Accuracy:  75.3%, Validation Accuracy:  78.7%,  Training Loss: 0.714\n",
      "Training Epoch 14 --- Training Accuracy:  87.2%, Validation Accuracy:  79.3%,  Training Loss: 0.410\n",
      "Training Epoch 14 --- Training Accuracy:  77.1%, Validation Accuracy:  80.2%,  Training Loss: 0.640\n",
      "Training Epoch 15 --- Training Accuracy:  86.3%, Validation Accuracy:  78.6%,  Training Loss: 0.379\n",
      "Training Epoch 15 --- Training Accuracy:  89.7%, Validation Accuracy:  79.9%,  Training Loss: 0.331\n",
      "Training Epoch 15 --- Training Accuracy:  86.3%, Validation Accuracy:  80.0%,  Training Loss: 0.426\n",
      "Training Epoch 15 --- Training Accuracy:  87.5%, Validation Accuracy:  78.9%,  Training Loss: 0.376\n",
      "Training Epoch 15 --- Training Accuracy:  82.3%, Validation Accuracy:  79.6%,  Training Loss: 0.516\n",
      "\n"
     ]
    }
   ],
   "source": [
    "try:\n",
    "    with tf.device(\"/cpu:0\") as dev:\n",
    "        train(num_epochs=15)\n",
    "except tf.errors.InvalidArgumentError:\n",
    "    print(\"GPU unavailable.\") "
   ]
  },
  {
   "cell_type": "markdown",
   "metadata": {
    "collapsed": true
   },
   "source": [
    "# Test Predictions"
   ]
  },
  {
   "cell_type": "code",
   "execution_count": null,
   "metadata": {
    "collapsed": true
   },
   "outputs": [],
   "source": [
    "X_test = normalize(X_test)\n",
    "\n",
    "classes = ('airplane','automobile', 'bird', 'cat', 'deer', 'dog', 'frog', 'horse', 'ship', 'truck')\n",
    "\n",
    "softmax, pred = session.run([y_pred,y_pred_cls], feed_dict = {x: X_test.reshape((5000,32,32,3)), is_training: True})\n",
    "\n",
    "# Save to csv \n",
    "file= open(\"test_submit.csv\", \"w\")\n",
    "file.write(\"id,label\\n\")\n",
    "\n",
    "for i in range(len(pred)):\n",
    "    row = str(i+1) + \",\"+ classes[pred[i]] + '\\n'\n",
    "    file.write(row)\n",
    "file.close()\n",
    "print(\"test_submit.csv file ready!\")\n",
    "\n",
    "# Save to .npy\n",
    "filename = 'ans-vvb231.npy'\n",
    "save_predictions(filename, softmax.T)"
   ]
  }
 ],
 "metadata": {
  "kernelspec": {
   "display_name": "Python 3",
   "language": "python",
   "name": "python3"
  },
  "language_info": {
   "codemirror_mode": {
    "name": "ipython",
    "version": 3
   },
   "file_extension": ".py",
   "mimetype": "text/x-python",
   "name": "python",
   "nbconvert_exporter": "python",
   "pygments_lexer": "ipython3",
   "version": "3.6.3"
  }
 },
 "nbformat": 4,
 "nbformat_minor": 2
}
